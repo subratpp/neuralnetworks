{
 "cells": [
  {
   "cell_type": "code",
   "execution_count": 1,
   "metadata": {},
   "outputs": [],
   "source": [
    "from multilayernn import * #Import from own library"
   ]
  },
  {
   "cell_type": "markdown",
   "metadata": {},
   "source": [
    "# MNIST "
   ]
  },
  {
   "cell_type": "markdown",
   "metadata": {},
   "source": [
    "## 1. Data Processing and One Hot Encoding"
   ]
  },
  {
   "cell_type": "code",
   "execution_count": 2,
   "metadata": {},
   "outputs": [],
   "source": [
    "train = pd.read_csv(\"datasets/mnist_train.csv\") #read data from file\n",
    "\n",
    "#separating labels and pixels\n",
    "train_labels=np.array(train.loc[:,'label'])\n",
    "train_data=np.array(train.loc[:,train.columns!='label'])\n",
    "#The characteristics of MNIST data pixels = 784 samples = 42000 classes = 10"
   ]
  },
  {
   "cell_type": "code",
   "execution_count": 3,
   "metadata": {},
   "outputs": [],
   "source": [
    "#Convert to onehot encoding\n",
    "pixels = 784\n",
    "samples = len(train_labels)\n",
    "classes = 10\n",
    "train_data = train_data.T #Transpose the matrix: where each column is a sample\n",
    "train_label=np.zeros((classes, samples))\n",
    "\n",
    "for col in range (samples):\n",
    "    train_label[train_labels[col],col]=1\n",
    "\n",
    "#Scaling Down of dataset\n",
    "train_data = train_data/255"
   ]
  },
  {
   "cell_type": "markdown",
   "metadata": {},
   "source": [
    "## 2. Training of Model"
   ]
  },
  {
   "cell_type": "markdown",
   "metadata": {},
   "source": [
    "Hypermeters:\n",
    "1. Tune the right weights as improper weights will cause exploding outputs\n",
    "2. Tune the learning rate and gamma\n",
    "3. Tune the number of epoch to be trained"
   ]
  },
  {
   "cell_type": "code",
   "execution_count": 4,
   "metadata": {},
   "outputs": [],
   "source": [
    "#Create Mulit Layer Network\n",
    "nodes_per_layer = [784, 500, 200, 80, 10] #nodes in each layer of neural network\n",
    "mnist_nn = deepNN(nodes_per_layer, learning_rate = 0.3, gamma = 0.7, epoch=10)"
   ]
  },
  {
   "cell_type": "code",
   "execution_count": 5,
   "metadata": {},
   "outputs": [
    {
     "name": "stdout",
     "output_type": "stream",
     "text": [
      "training...\n",
      "Epoch:0 | Cross Entropy Error: 2.3940309278768983 | Accuacy: 10.743333333333334%\n",
      "Epoch:1 | Cross Entropy Error: 2.2481330481231225 | Accuacy: 19.21%\n",
      "Epoch:2 | Cross Entropy Error: 2.123812023319786 | Accuacy: 32.538333333333334%\n",
      "Epoch:3 | Cross Entropy Error: 1.9651326519337888 | Accuacy: 47.16166666666667%\n",
      "Epoch:4 | Cross Entropy Error: 1.7790435136371927 | Accuacy: 56.074999999999996%\n",
      "Epoch:5 | Cross Entropy Error: 1.5858467754679488 | Accuacy: 61.78666666666667%\n",
      "Epoch:6 | Cross Entropy Error: 1.3767362075604808 | Accuacy: 67.72500000000001%\n",
      "Epoch:7 | Cross Entropy Error: 1.1794484545759225 | Accuacy: 71.49333333333333%\n",
      "Epoch:8 | Cross Entropy Error: 1.0026884474365318 | Accuacy: 75.99833333333333%\n",
      "Epoch:9 | Cross Entropy Error: 0.8610428907151668 | Accuacy: 79.35333333333332%\n"
     ]
    },
    {
     "data": {
      "image/png": "[encoded data removed]",
      "text/plain": [
       "<Figure size 432x288 with 1 Axes>"
      ]
     },
     "metadata": {
      "needs_background": "light"
     },
     "output_type": "display_data"
    },
    {
     "data": {
      "text/plain": [
       "<Figure size 432x288 with 0 Axes>"
      ]
     },
     "metadata": {},
     "output_type": "display_data"
    }
   ],
   "source": [
    "#Train the network\n",
    "mnist_nn.train_model(train_data, train_label, train_labels, verbose = True, filename=\"accuracy/mnist/mnistdata\")"
   ]
  },
  {
   "cell_type": "markdown",
   "metadata": {},
   "source": [
    "## 3. Testing of Model"
   ]
  },
  {
   "cell_type": "code",
   "execution_count": 6,
   "metadata": {},
   "outputs": [],
   "source": [
    "#data preprocessing\n",
    "test = pd.read_csv(\"datasets/mnist_test.csv\") #read data from file\n",
    "\n",
    "#separating labels and pixels\n",
    "test_labels=np.array(test.loc[:,'label'])\n",
    "test_data=np.array(test.loc[:,test.columns!='label'])\n",
    "#The characteristics of MNIST data pixels = 784 samples = 42000 classes = 10"
   ]
  },
  {
   "cell_type": "code",
   "execution_count": 7,
   "metadata": {},
   "outputs": [],
   "source": [
    "#Convert to onehot encoding\n",
    "pixels = 784\n",
    "samples = len(test_labels)\n",
    "classes = 10\n",
    "test_data = test_data.T #Transpose the matrix: where each column is a sample\n",
    "test_label=np.zeros((classes, samples))\n",
    "\n",
    "for col in range (samples):\n",
    "    test_label[test_labels[col],col]=1\n",
    "\n",
    "#Scaling Down of dataset\n",
    "test_data = test_data/255"
   ]
  },
  {
   "cell_type": "code",
   "execution_count": 8,
   "metadata": {},
   "outputs": [
    {
     "name": "stdout",
     "output_type": "stream",
     "text": [
      "Accuracy on Test Data: 81.82000000000001% | Cross Entropy Error: 0.7250626949300704\n"
     ]
    }
   ],
   "source": [
    "test_error, test_accuracy = mnist_nn.test_model( test_data, test_label, test_labels, filename=\"accuracy/mnist/mnistdata\")"
   ]
  },
  {
   "cell_type": "markdown",
   "metadata": {},
   "source": [
    "## Conclusion:\n",
    "Check accuracy folder for all the error and accuracy data."
   ]
  },
  {
   "cell_type": "markdown",
   "metadata": {},
   "source": [
    "<hr>"
   ]
  },
  {
   "cell_type": "markdown",
   "metadata": {},
   "source": [
    "# Kaggle: Test and Compute Accuracy for Submission\n",
    "For submission to the Kaggle the kaggle test data needs to be passed through the model.\n",
    "The following code will generate the \"sample_submission.csv\" for the Kaggle MNIST.\n",
    "\n",
    "**Uncomment the Following for Kaggle**"
   ]
  },
  {
   "cell_type": "code",
   "execution_count": 9,
   "metadata": {},
   "outputs": [],
   "source": [
    "# test_data= pd.read_csv(\"datasets/kaggle/mnist_test.csv\") #This generated cvs file which can be submitted to the Kaggle\n",
    "# test_data=np.array(test_data) #separating labels and pixels\n",
    "\n",
    "# #Preprocess data for the model\n",
    "# test_data = test_data.T #Transpose the matrix: where each column is a sample\n",
    "# test_data = test_data/255 #scale the data to range 1\n",
    "\n",
    "# #Test the data for the model\n",
    "# Y_hat, cache = mnist_nn.forward_propagation(test_data)\n",
    "# Y_predicted = np.argmax(Y_hat, axis=0)\n",
    "\n",
    "# #Create submission ready data\n",
    "# df = pd.DataFrame(Y_predicted, columns = [\"Label\"]) \n",
    "# df.index.name = 'ImageId'\n",
    "# df.index += 1 \n",
    "# df.to_csv('kaggle_submission/sample_submission.csv', index = True)"
   ]
  }
 ],
 "metadata": {
  "kernelspec": {
   "display_name": "Python 3",
   "language": "python",
   "name": "python3"
  },
  "language_info": {
   "codemirror_mode": {
    "name": "ipython",
    "version": 3
   },
   "file_extension": ".py",
   "mimetype": "text/x-python",
   "name": "python",
   "nbconvert_exporter": "python",
   "pygments_lexer": "ipython3",
   "version": "3.7.7"
  }
 },
 "nbformat": 4,
 "nbformat_minor": 4
}
