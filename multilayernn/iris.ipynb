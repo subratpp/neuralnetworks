{
 "cells": [
  {
   "cell_type": "code",
   "execution_count": null,
   "metadata": {},
   "outputs": [],
   "source": [
    "from multilayernn import * #Import from own library\n",
    "import csv #for reading csv directly to numpy"
   ]
  },
  {
   "cell_type": "markdown",
   "metadata": {},
   "source": [
    "# IRIS"
   ]
  },
  {
   "cell_type": "markdown",
   "metadata": {},
   "source": [
    "## 1. Data Processing and One Hot Encoding"
   ]
  },
  {
   "cell_type": "code",
   "execution_count": null,
   "metadata": {},
   "outputs": [],
   "source": [
    "#Load data\n",
    "data = []\n",
    "with open('datasets/iris.data','r')as f:\n",
    "    file = csv.reader(f)\n",
    "    for row in file:\n",
    "        if row[4] == 'Iris-setosa':\n",
    "            row[4] = '0'\n",
    "            float_list = list(map(float, row)) \n",
    "            data.append(float_list)\n",
    "        \n",
    "        elif row[4] == 'Iris-versicolor':\n",
    "            row[4] = '1'\n",
    "            float_list = list(map(float, row)) \n",
    "            data.append(float_list)\n",
    "        \n",
    "        else: #virginica\n",
    "            row[4] = '2'\n",
    "            float_list = list(map(float, row)) \n",
    "            data.append(float_list)\n",
    "\n",
    "data = np.array(data) #convert to numpy\n",
    "np.random.shuffle(data) #Shuffle the input data"
   ]
  },
  {
   "cell_type": "code",
   "execution_count": null,
   "metadata": {},
   "outputs": [],
   "source": [
    "#separating labels and pixels\n",
    "all_labels= data[:, -1].copy().astype(int)\n",
    "all_data= data[:, :-1].copy()\n",
    "# The characteristics of MNIST data pixels = 784 samples = 42000 classes = 10"
   ]
  },
  {
   "cell_type": "code",
   "execution_count": null,
   "metadata": {},
   "outputs": [],
   "source": [
    "#Convert to onehot encoding\n",
    "features = 4\n",
    "samples = len(all_data)\n",
    "classes = 3\n",
    "all_data = all_data.T\n",
    "all_label=np.zeros((classes, samples))\n",
    "for col in range (samples):\n",
    "    all_label[all_labels[col],col]=1\n",
    "#Scaling Down of dataset\n",
    "all_data = all_data/5 #scaled the data"
   ]
  },
  {
   "cell_type": "code",
   "execution_count": null,
   "metadata": {},
   "outputs": [],
   "source": [
    "#Generate Test and Training Data from the Sample 80% vs 20%\n",
    "train_data = all_data[:, int(samples*0.2):]\n",
    "train_label = all_label[:, int(samples*0.2):]\n",
    "train_actual_label = all_labels[int(samples*0.2):]\n",
    "\n",
    "test_data = all_data[:, :int(samples*0.2)]\n",
    "test_label = all_label[:, :int(samples*0.2)]\n",
    "test_actual_label = all_labels[:int(samples*0.2)]"
   ]
  },
  {
   "cell_type": "markdown",
   "metadata": {},
   "source": [
    "## 2. Training of Model"
   ]
  },
  {
   "cell_type": "markdown",
   "metadata": {},
   "source": [
    "Hypermeters:\n",
    "1. Tune the right weights as improper weights will cause exploding outputs\n",
    "2. Tune the learning rate and gamma\n",
    "3. Tune the number of epoch to be trained"
   ]
  },
  {
   "cell_type": "code",
   "execution_count": null,
   "metadata": {},
   "outputs": [],
   "source": [
    "#Create Mulit Layer Network\n",
    "nodes_per_layer = [4, 10, 3]\n",
    "iris_nn = deepNN(nodes_per_layer, learning_rate = 0.2, gamma = 0.7, epoch=1000)"
   ]
  },
  {
   "cell_type": "code",
   "execution_count": null,
   "metadata": {},
   "outputs": [],
   "source": [
    "#Train the network\n",
    "iris_nn.train_model(train_data, train_label, train_actual_label, verbose = True, filename=\"accuracy/iris/irisdata\")"
   ]
  },
  {
   "cell_type": "markdown",
   "metadata": {},
   "source": [
    "## 3. Testing of Model"
   ]
  },
  {
   "cell_type": "code",
   "execution_count": null,
   "metadata": {},
   "outputs": [],
   "source": [
    "test_error, test_accuracy = iris_nn.test_model(test_data, test_label, test_actual_label, filename=\"accuracy/iris/irisdata\")"
   ]
  },
  {
   "cell_type": "markdown",
   "metadata": {},
   "source": [
    "## Conclusion:\n",
    "Check accuracy folder for all the error and accuracy data."
   ]
  },
  {
   "cell_type": "markdown",
   "metadata": {},
   "source": [
    "<hr>"
   ]
  }
 ],
 "metadata": {
  "kernelspec": {
   "display_name": "Python 3",
   "language": "python",
   "name": "python3"
  },
  "language_info": {
   "codemirror_mode": {
    "name": "ipython",
    "version": 3
   },
   "file_extension": ".py",
   "mimetype": "text/x-python",
   "name": "python",
   "nbconvert_exporter": "python",
   "pygments_lexer": "ipython3",
   "version": "3.7.7"
  }
 },
 "nbformat": 4,
 "nbformat_minor": 4
}
